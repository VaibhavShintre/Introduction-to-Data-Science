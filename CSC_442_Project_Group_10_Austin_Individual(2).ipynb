{
  "nbformat": 4,
  "nbformat_minor": 0,
  "metadata": {
    "colab": {
      "provenance": []
    },
    "kernelspec": {
      "name": "python3",
      "display_name": "Python 3"
    },
    "language_info": {
      "name": "python"
    }
  },
  "cells": [
    {
      "cell_type": "markdown",
      "source": [
        "Names: Lavan Aditya, Amrish Naranappa, Vaibhav Shintre, Austin Bressler"
      ],
      "metadata": {
        "id": "5eNWzlP94i54"
      }
    },
    {
      "cell_type": "code",
      "execution_count": null,
      "metadata": {
        "id": "PPQiFvdB4XBy",
        "colab": {
          "base_uri": "https://localhost:8080/",
          "height": 109
        },
        "outputId": "a50f7b35-43d4-4612-9ee7-7ff20e7b876e"
      },
      "outputs": [
        {
          "output_type": "display_data",
          "data": {
            "text/plain": [
              "<IPython.core.display.HTML object>"
            ],
            "text/html": [
              "\n",
              "     <input type=\"file\" id=\"files-9d2fc1ad-f5de-492b-b1f3-8a81bf7333cf\" name=\"files[]\" multiple disabled\n",
              "        style=\"border:none\" />\n",
              "     <output id=\"result-9d2fc1ad-f5de-492b-b1f3-8a81bf7333cf\">\n",
              "      Upload widget is only available when the cell has been executed in the\n",
              "      current browser session. Please rerun this cell to enable.\n",
              "      </output>\n",
              "      <script>// Copyright 2017 Google LLC\n",
              "//\n",
              "// Licensed under the Apache License, Version 2.0 (the \"License\");\n",
              "// you may not use this file except in compliance with the License.\n",
              "// You may obtain a copy of the License at\n",
              "//\n",
              "//      http://www.apache.org/licenses/LICENSE-2.0\n",
              "//\n",
              "// Unless required by applicable law or agreed to in writing, software\n",
              "// distributed under the License is distributed on an \"AS IS\" BASIS,\n",
              "// WITHOUT WARRANTIES OR CONDITIONS OF ANY KIND, either express or implied.\n",
              "// See the License for the specific language governing permissions and\n",
              "// limitations under the License.\n",
              "\n",
              "/**\n",
              " * @fileoverview Helpers for google.colab Python module.\n",
              " */\n",
              "(function(scope) {\n",
              "function span(text, styleAttributes = {}) {\n",
              "  const element = document.createElement('span');\n",
              "  element.textContent = text;\n",
              "  for (const key of Object.keys(styleAttributes)) {\n",
              "    element.style[key] = styleAttributes[key];\n",
              "  }\n",
              "  return element;\n",
              "}\n",
              "\n",
              "// Max number of bytes which will be uploaded at a time.\n",
              "const MAX_PAYLOAD_SIZE = 100 * 1024;\n",
              "\n",
              "function _uploadFiles(inputId, outputId) {\n",
              "  const steps = uploadFilesStep(inputId, outputId);\n",
              "  const outputElement = document.getElementById(outputId);\n",
              "  // Cache steps on the outputElement to make it available for the next call\n",
              "  // to uploadFilesContinue from Python.\n",
              "  outputElement.steps = steps;\n",
              "\n",
              "  return _uploadFilesContinue(outputId);\n",
              "}\n",
              "\n",
              "// This is roughly an async generator (not supported in the browser yet),\n",
              "// where there are multiple asynchronous steps and the Python side is going\n",
              "// to poll for completion of each step.\n",
              "// This uses a Promise to block the python side on completion of each step,\n",
              "// then passes the result of the previous step as the input to the next step.\n",
              "function _uploadFilesContinue(outputId) {\n",
              "  const outputElement = document.getElementById(outputId);\n",
              "  const steps = outputElement.steps;\n",
              "\n",
              "  const next = steps.next(outputElement.lastPromiseValue);\n",
              "  return Promise.resolve(next.value.promise).then((value) => {\n",
              "    // Cache the last promise value to make it available to the next\n",
              "    // step of the generator.\n",
              "    outputElement.lastPromiseValue = value;\n",
              "    return next.value.response;\n",
              "  });\n",
              "}\n",
              "\n",
              "/**\n",
              " * Generator function which is called between each async step of the upload\n",
              " * process.\n",
              " * @param {string} inputId Element ID of the input file picker element.\n",
              " * @param {string} outputId Element ID of the output display.\n",
              " * @return {!Iterable<!Object>} Iterable of next steps.\n",
              " */\n",
              "function* uploadFilesStep(inputId, outputId) {\n",
              "  const inputElement = document.getElementById(inputId);\n",
              "  inputElement.disabled = false;\n",
              "\n",
              "  const outputElement = document.getElementById(outputId);\n",
              "  outputElement.innerHTML = '';\n",
              "\n",
              "  const pickedPromise = new Promise((resolve) => {\n",
              "    inputElement.addEventListener('change', (e) => {\n",
              "      resolve(e.target.files);\n",
              "    });\n",
              "  });\n",
              "\n",
              "  const cancel = document.createElement('button');\n",
              "  inputElement.parentElement.appendChild(cancel);\n",
              "  cancel.textContent = 'Cancel upload';\n",
              "  const cancelPromise = new Promise((resolve) => {\n",
              "    cancel.onclick = () => {\n",
              "      resolve(null);\n",
              "    };\n",
              "  });\n",
              "\n",
              "  // Wait for the user to pick the files.\n",
              "  const files = yield {\n",
              "    promise: Promise.race([pickedPromise, cancelPromise]),\n",
              "    response: {\n",
              "      action: 'starting',\n",
              "    }\n",
              "  };\n",
              "\n",
              "  cancel.remove();\n",
              "\n",
              "  // Disable the input element since further picks are not allowed.\n",
              "  inputElement.disabled = true;\n",
              "\n",
              "  if (!files) {\n",
              "    return {\n",
              "      response: {\n",
              "        action: 'complete',\n",
              "      }\n",
              "    };\n",
              "  }\n",
              "\n",
              "  for (const file of files) {\n",
              "    const li = document.createElement('li');\n",
              "    li.append(span(file.name, {fontWeight: 'bold'}));\n",
              "    li.append(span(\n",
              "        `(${file.type || 'n/a'}) - ${file.size} bytes, ` +\n",
              "        `last modified: ${\n",
              "            file.lastModifiedDate ? file.lastModifiedDate.toLocaleDateString() :\n",
              "                                    'n/a'} - `));\n",
              "    const percent = span('0% done');\n",
              "    li.appendChild(percent);\n",
              "\n",
              "    outputElement.appendChild(li);\n",
              "\n",
              "    const fileDataPromise = new Promise((resolve) => {\n",
              "      const reader = new FileReader();\n",
              "      reader.onload = (e) => {\n",
              "        resolve(e.target.result);\n",
              "      };\n",
              "      reader.readAsArrayBuffer(file);\n",
              "    });\n",
              "    // Wait for the data to be ready.\n",
              "    let fileData = yield {\n",
              "      promise: fileDataPromise,\n",
              "      response: {\n",
              "        action: 'continue',\n",
              "      }\n",
              "    };\n",
              "\n",
              "    // Use a chunked sending to avoid message size limits. See b/62115660.\n",
              "    let position = 0;\n",
              "    do {\n",
              "      const length = Math.min(fileData.byteLength - position, MAX_PAYLOAD_SIZE);\n",
              "      const chunk = new Uint8Array(fileData, position, length);\n",
              "      position += length;\n",
              "\n",
              "      const base64 = btoa(String.fromCharCode.apply(null, chunk));\n",
              "      yield {\n",
              "        response: {\n",
              "          action: 'append',\n",
              "          file: file.name,\n",
              "          data: base64,\n",
              "        },\n",
              "      };\n",
              "\n",
              "      let percentDone = fileData.byteLength === 0 ?\n",
              "          100 :\n",
              "          Math.round((position / fileData.byteLength) * 100);\n",
              "      percent.textContent = `${percentDone}% done`;\n",
              "\n",
              "    } while (position < fileData.byteLength);\n",
              "  }\n",
              "\n",
              "  // All done.\n",
              "  yield {\n",
              "    response: {\n",
              "      action: 'complete',\n",
              "    }\n",
              "  };\n",
              "}\n",
              "\n",
              "scope.google = scope.google || {};\n",
              "scope.google.colab = scope.google.colab || {};\n",
              "scope.google.colab._files = {\n",
              "  _uploadFiles,\n",
              "  _uploadFilesContinue,\n",
              "};\n",
              "})(self);\n",
              "</script> "
            ]
          },
          "metadata": {}
        },
        {
          "output_type": "stream",
          "name": "stdout",
          "text": [
            "Saving student-por.csv to student-por.csv\n",
            "Saving student-mat.csv to student-mat.csv\n"
          ]
        }
      ],
      "source": [
        "# install the neccesary libraries\n",
        "from google.colab import files\n",
        "import io\n",
        "import pandas as pd\n",
        "import numpy as np\n",
        "\n",
        "# install visualization tools\n",
        "import seaborn as sns\n",
        "import matplotlib.pyplot as plt\n",
        "\n",
        "# upload the data file\n",
        "uploaded = files.upload()"
      ]
    },
    {
      "cell_type": "code",
      "source": [
        "# read in the database\n",
        "StudentMath = pd.read_csv('student-mat.csv', delimiter=';')\n",
        "StudentPort = pd.read_csv('student-por.csv', delimiter=';')\n",
        "\n",
        "# checking if the files were read correctly\n",
        "print(StudentMath)\n",
        "print(StudentPort)"
      ],
      "metadata": {
        "id": "4PNlCkqpCLse",
        "outputId": "756e1387-01d5-4b3b-c1af-8d99513031a1",
        "colab": {
          "base_uri": "https://localhost:8080/"
        }
      },
      "execution_count": null,
      "outputs": [
        {
          "output_type": "stream",
          "name": "stdout",
          "text": [
            "    school sex  age address famsize Pstatus  Medu  Fedu      Mjob      Fjob  \\\n",
            "0       GP   F   18       U     GT3       A     4     4   at_home   teacher   \n",
            "1       GP   F   17       U     GT3       T     1     1   at_home     other   \n",
            "2       GP   F   15       U     LE3       T     1     1   at_home     other   \n",
            "3       GP   F   15       U     GT3       T     4     2    health  services   \n",
            "4       GP   F   16       U     GT3       T     3     3     other     other   \n",
            "..     ...  ..  ...     ...     ...     ...   ...   ...       ...       ...   \n",
            "390     MS   M   20       U     LE3       A     2     2  services  services   \n",
            "391     MS   M   17       U     LE3       T     3     1  services  services   \n",
            "392     MS   M   21       R     GT3       T     1     1     other     other   \n",
            "393     MS   M   18       R     LE3       T     3     2  services     other   \n",
            "394     MS   M   19       U     LE3       T     1     1     other   at_home   \n",
            "\n",
            "     ... famrel freetime  goout  Dalc  Walc health absences  G1  G2  G3  \n",
            "0    ...      4        3      4     1     1      3        6   5   6   6  \n",
            "1    ...      5        3      3     1     1      3        4   5   5   6  \n",
            "2    ...      4        3      2     2     3      3       10   7   8  10  \n",
            "3    ...      3        2      2     1     1      5        2  15  14  15  \n",
            "4    ...      4        3      2     1     2      5        4   6  10  10  \n",
            "..   ...    ...      ...    ...   ...   ...    ...      ...  ..  ..  ..  \n",
            "390  ...      5        5      4     4     5      4       11   9   9   9  \n",
            "391  ...      2        4      5     3     4      2        3  14  16  16  \n",
            "392  ...      5        5      3     3     3      3        3  10   8   7  \n",
            "393  ...      4        4      1     3     4      5        0  11  12  10  \n",
            "394  ...      3        2      3     3     3      5        5   8   9   9  \n",
            "\n",
            "[395 rows x 33 columns]\n",
            "    school sex  age address famsize Pstatus  Medu  Fedu      Mjob      Fjob  \\\n",
            "0       GP   F   18       U     GT3       A     4     4   at_home   teacher   \n",
            "1       GP   F   17       U     GT3       T     1     1   at_home     other   \n",
            "2       GP   F   15       U     LE3       T     1     1   at_home     other   \n",
            "3       GP   F   15       U     GT3       T     4     2    health  services   \n",
            "4       GP   F   16       U     GT3       T     3     3     other     other   \n",
            "..     ...  ..  ...     ...     ...     ...   ...   ...       ...       ...   \n",
            "644     MS   F   19       R     GT3       T     2     3  services     other   \n",
            "645     MS   F   18       U     LE3       T     3     1   teacher  services   \n",
            "646     MS   F   18       U     GT3       T     1     1     other     other   \n",
            "647     MS   M   17       U     LE3       T     3     1  services  services   \n",
            "648     MS   M   18       R     LE3       T     3     2  services     other   \n",
            "\n",
            "     ... famrel freetime  goout  Dalc  Walc health absences  G1  G2  G3  \n",
            "0    ...      4        3      4     1     1      3        4   0  11  11  \n",
            "1    ...      5        3      3     1     1      3        2   9  11  11  \n",
            "2    ...      4        3      2     2     3      3        6  12  13  12  \n",
            "3    ...      3        2      2     1     1      5        0  14  14  14  \n",
            "4    ...      4        3      2     1     2      5        0  11  13  13  \n",
            "..   ...    ...      ...    ...   ...   ...    ...      ...  ..  ..  ..  \n",
            "644  ...      5        4      2     1     2      5        4  10  11  10  \n",
            "645  ...      4        3      4     1     1      1        4  15  15  16  \n",
            "646  ...      1        1      1     1     1      5        6  11  12   9  \n",
            "647  ...      2        4      5     3     4      2        6  10  10  10  \n",
            "648  ...      4        4      1     3     4      5        4  10  11  11  \n",
            "\n",
            "[649 rows x 33 columns]\n"
          ]
        }
      ]
    },
    {
      "cell_type": "code",
      "source": [
        "# Dropping the 'G1' and 'G2' columns from the StudentMath DataFrame to keep only 'G3' and other relevant columns\n",
        "mathG3Only = StudentMath.drop(['G1', 'G2'], axis=1)\n",
        "\n",
        "# Dropping the 'G1' and 'G2' columns from the StudentPort DataFrame to keep only 'G3' and other relevant columns\n",
        "portG3Only = StudentPort.drop(['G1', 'G2'], axis=1)\n",
        "\n",
        "# Rename columns in the math dataset to clearly indicate these values come from the math file.\n",
        "Sm_temp = mathG3Only.rename(columns={'G3': 'MG3', \"paid\": \"paidM\", \"failures\": \"failuresM\", \"absences\": \"absencesM\"}, inplace=False)\n",
        "print(Sm_temp)\n",
        "# Rename columns in the Portuguese dataset to indicate they belong to the Portugal file.\n",
        "sp_temp = portG3Only.rename(columns={'G3': 'PG3', \"paid\": \"paidP\", \"failures\": \"failuresP\", \"absences\": \"absencesP\"}, inplace=False)\n",
        "print(sp_temp)\n"
      ],
      "metadata": {
        "colab": {
          "base_uri": "https://localhost:8080/"
        },
        "id": "doeXZ8elIR-U",
        "outputId": "094c2fb5-accb-46d4-8cf1-c65cb4e97b40"
      },
      "execution_count": null,
      "outputs": [
        {
          "output_type": "stream",
          "name": "stdout",
          "text": [
            "    school sex  age address famsize Pstatus  Medu  Fedu      Mjob      Fjob  \\\n",
            "0       GP   F   18       U     GT3       A     4     4   at_home   teacher   \n",
            "1       GP   F   17       U     GT3       T     1     1   at_home     other   \n",
            "2       GP   F   15       U     LE3       T     1     1   at_home     other   \n",
            "3       GP   F   15       U     GT3       T     4     2    health  services   \n",
            "4       GP   F   16       U     GT3       T     3     3     other     other   \n",
            "..     ...  ..  ...     ...     ...     ...   ...   ...       ...       ...   \n",
            "390     MS   M   20       U     LE3       A     2     2  services  services   \n",
            "391     MS   M   17       U     LE3       T     3     1  services  services   \n",
            "392     MS   M   21       R     GT3       T     1     1     other     other   \n",
            "393     MS   M   18       R     LE3       T     3     2  services     other   \n",
            "394     MS   M   19       U     LE3       T     1     1     other   at_home   \n",
            "\n",
            "     ... internet romantic  famrel  freetime  goout Dalc Walc health  \\\n",
            "0    ...       no       no       4         3      4    1    1      3   \n",
            "1    ...      yes       no       5         3      3    1    1      3   \n",
            "2    ...      yes       no       4         3      2    2    3      3   \n",
            "3    ...      yes      yes       3         2      2    1    1      5   \n",
            "4    ...       no       no       4         3      2    1    2      5   \n",
            "..   ...      ...      ...     ...       ...    ...  ...  ...    ...   \n",
            "390  ...       no       no       5         5      4    4    5      4   \n",
            "391  ...      yes       no       2         4      5    3    4      2   \n",
            "392  ...       no       no       5         5      3    3    3      3   \n",
            "393  ...      yes       no       4         4      1    3    4      5   \n",
            "394  ...      yes       no       3         2      3    3    3      5   \n",
            "\n",
            "    absencesM MG3  \n",
            "0           6   6  \n",
            "1           4   6  \n",
            "2          10  10  \n",
            "3           2  15  \n",
            "4           4  10  \n",
            "..        ...  ..  \n",
            "390        11   9  \n",
            "391         3  16  \n",
            "392         3   7  \n",
            "393         0  10  \n",
            "394         5   9  \n",
            "\n",
            "[395 rows x 31 columns]\n",
            "    school sex  age address famsize Pstatus  Medu  Fedu      Mjob      Fjob  \\\n",
            "0       GP   F   18       U     GT3       A     4     4   at_home   teacher   \n",
            "1       GP   F   17       U     GT3       T     1     1   at_home     other   \n",
            "2       GP   F   15       U     LE3       T     1     1   at_home     other   \n",
            "3       GP   F   15       U     GT3       T     4     2    health  services   \n",
            "4       GP   F   16       U     GT3       T     3     3     other     other   \n",
            "..     ...  ..  ...     ...     ...     ...   ...   ...       ...       ...   \n",
            "644     MS   F   19       R     GT3       T     2     3  services     other   \n",
            "645     MS   F   18       U     LE3       T     3     1   teacher  services   \n",
            "646     MS   F   18       U     GT3       T     1     1     other     other   \n",
            "647     MS   M   17       U     LE3       T     3     1  services  services   \n",
            "648     MS   M   18       R     LE3       T     3     2  services     other   \n",
            "\n",
            "     ... internet romantic  famrel  freetime  goout Dalc Walc health  \\\n",
            "0    ...       no       no       4         3      4    1    1      3   \n",
            "1    ...      yes       no       5         3      3    1    1      3   \n",
            "2    ...      yes       no       4         3      2    2    3      3   \n",
            "3    ...      yes      yes       3         2      2    1    1      5   \n",
            "4    ...       no       no       4         3      2    1    2      5   \n",
            "..   ...      ...      ...     ...       ...    ...  ...  ...    ...   \n",
            "644  ...      yes       no       5         4      2    1    2      5   \n",
            "645  ...      yes       no       4         3      4    1    1      1   \n",
            "646  ...       no       no       1         1      1    1    1      5   \n",
            "647  ...      yes       no       2         4      5    3    4      2   \n",
            "648  ...      yes       no       4         4      1    3    4      5   \n",
            "\n",
            "    absencesP PG3  \n",
            "0           4  11  \n",
            "1           2  11  \n",
            "2           6  12  \n",
            "3           0  14  \n",
            "4           0  13  \n",
            "..        ...  ..  \n",
            "644         4  10  \n",
            "645         4  16  \n",
            "646         6   9  \n",
            "647         6  10  \n",
            "648         4  11  \n",
            "\n",
            "[649 rows x 31 columns]\n"
          ]
        }
      ]
    },
    {
      "cell_type": "code",
      "source": [
        "# performing an inner join between Sm_temp and sp_temp on their common columns\n",
        "sm_inter = pd.merge(Sm_temp, sp_temp, 'inner')\n",
        "\n",
        "# printing the result to verify that there is a correct amount of matching files.\n",
        "print(sm_inter.info())"
      ],
      "metadata": {
        "id": "fgJOeLI4NSwC",
        "outputId": "8115d4a8-749f-437e-e7d2-ca1722a33f7a",
        "colab": {
          "base_uri": "https://localhost:8080/"
        }
      },
      "execution_count": null,
      "outputs": [
        {
          "output_type": "stream",
          "name": "stdout",
          "text": [
            "<class 'pandas.core.frame.DataFrame'>\n",
            "RangeIndex: 370 entries, 0 to 369\n",
            "Data columns (total 35 columns):\n",
            " #   Column      Non-Null Count  Dtype \n",
            "---  ------      --------------  ----- \n",
            " 0   school      370 non-null    object\n",
            " 1   sex         370 non-null    object\n",
            " 2   age         370 non-null    int64 \n",
            " 3   address     370 non-null    object\n",
            " 4   famsize     370 non-null    object\n",
            " 5   Pstatus     370 non-null    object\n",
            " 6   Medu        370 non-null    int64 \n",
            " 7   Fedu        370 non-null    int64 \n",
            " 8   Mjob        370 non-null    object\n",
            " 9   Fjob        370 non-null    object\n",
            " 10  reason      370 non-null    object\n",
            " 11  guardian    370 non-null    object\n",
            " 12  traveltime  370 non-null    int64 \n",
            " 13  studytime   370 non-null    int64 \n",
            " 14  failuresM   370 non-null    int64 \n",
            " 15  schoolsup   370 non-null    object\n",
            " 16  famsup      370 non-null    object\n",
            " 17  paidM       370 non-null    object\n",
            " 18  activities  370 non-null    object\n",
            " 19  nursery     370 non-null    object\n",
            " 20  higher      370 non-null    object\n",
            " 21  internet    370 non-null    object\n",
            " 22  romantic    370 non-null    object\n",
            " 23  famrel      370 non-null    int64 \n",
            " 24  freetime    370 non-null    int64 \n",
            " 25  goout       370 non-null    int64 \n",
            " 26  Dalc        370 non-null    int64 \n",
            " 27  Walc        370 non-null    int64 \n",
            " 28  health      370 non-null    int64 \n",
            " 29  absencesM   370 non-null    int64 \n",
            " 30  MG3         370 non-null    int64 \n",
            " 31  failuresP   370 non-null    int64 \n",
            " 32  paidP       370 non-null    object\n",
            " 33  absencesP   370 non-null    int64 \n",
            " 34  PG3         370 non-null    int64 \n",
            "dtypes: int64(17), object(18)\n",
            "memory usage: 101.3+ KB\n",
            "None\n"
          ]
        }
      ]
    },
    {
      "cell_type": "markdown",
      "source": [
        "We will be working with these variables to see how they improve final grade.\n",
        "\n",
        "schoolsup - extra educational support, yes or no\n",
        "\n",
        "famsup - family educational support, yes or no\n",
        "\n",
        "paid - extra paid classes within the course subject, yes or no"
      ],
      "metadata": {
        "id": "6ktIx-TMhpsk"
      }
    },
    {
      "cell_type": "code",
      "source": [
        "# Make paidM into a category\n",
        "sm_inter[\"paidMCat\"] = sm_inter[\"paidM\"].astype(\"category\")\n",
        "\n",
        "# Make paidP into a category\n",
        "sm_inter[\"paidPCat\"] = sm_inter[\"paidP\"].astype(\"category\")\n",
        "\n",
        "# Make farmsup into a category\n",
        "sm_inter[\"famsupCat\"] = sm_inter[\"famsup\"].astype(\"category\")\n",
        "\n",
        "# Make farmsup into a category\n",
        "sm_inter[\"schoolsupCat\"] = sm_inter[\"schoolsup\"].astype(\"category\")\n",
        "\n",
        "# check to see if all categories were created correctly\n",
        "sm_inter.info()"
      ],
      "metadata": {
        "colab": {
          "base_uri": "https://localhost:8080/"
        },
        "id": "p6Z6277eMz6a",
        "outputId": "c4a75932-9fd5-430f-c036-047ce9b47d61"
      },
      "execution_count": null,
      "outputs": [
        {
          "output_type": "stream",
          "name": "stdout",
          "text": [
            "<class 'pandas.core.frame.DataFrame'>\n",
            "RangeIndex: 370 entries, 0 to 369\n",
            "Data columns (total 39 columns):\n",
            " #   Column        Non-Null Count  Dtype   \n",
            "---  ------        --------------  -----   \n",
            " 0   school        370 non-null    object  \n",
            " 1   sex           370 non-null    object  \n",
            " 2   age           370 non-null    int64   \n",
            " 3   address       370 non-null    object  \n",
            " 4   famsize       370 non-null    object  \n",
            " 5   Pstatus       370 non-null    object  \n",
            " 6   Medu          370 non-null    int64   \n",
            " 7   Fedu          370 non-null    int64   \n",
            " 8   Mjob          370 non-null    object  \n",
            " 9   Fjob          370 non-null    object  \n",
            " 10  reason        370 non-null    object  \n",
            " 11  guardian      370 non-null    object  \n",
            " 12  traveltime    370 non-null    int64   \n",
            " 13  studytime     370 non-null    int64   \n",
            " 14  failuresM     370 non-null    int64   \n",
            " 15  schoolsup     370 non-null    object  \n",
            " 16  famsup        370 non-null    object  \n",
            " 17  paidM         370 non-null    object  \n",
            " 18  activities    370 non-null    object  \n",
            " 19  nursery       370 non-null    object  \n",
            " 20  higher        370 non-null    object  \n",
            " 21  internet      370 non-null    object  \n",
            " 22  romantic      370 non-null    object  \n",
            " 23  famrel        370 non-null    int64   \n",
            " 24  freetime      370 non-null    int64   \n",
            " 25  goout         370 non-null    int64   \n",
            " 26  Dalc          370 non-null    int64   \n",
            " 27  Walc          370 non-null    int64   \n",
            " 28  health        370 non-null    int64   \n",
            " 29  absencesM     370 non-null    int64   \n",
            " 30  MG3           370 non-null    int64   \n",
            " 31  failuresP     370 non-null    int64   \n",
            " 32  paidP         370 non-null    object  \n",
            " 33  absencesP     370 non-null    int64   \n",
            " 34  PG3           370 non-null    int64   \n",
            " 35  paidMCat      370 non-null    category\n",
            " 36  paidPCat      370 non-null    category\n",
            " 37  famsupCat     370 non-null    category\n",
            " 38  schoolsupCat  370 non-null    category\n",
            "dtypes: category(4), int64(17), object(18)\n",
            "memory usage: 103.2+ KB\n"
          ]
        }
      ]
    },
    {
      "cell_type": "markdown",
      "source": [
        "Let's explore how forms of extra help such as help from family, school, or paid tutoring change the expected grade. We want to see how much these factors improve the final grade if at all, and if they seem to be good predictors of final grade once a model uses them. First however we will look at the average grade with no sorting."
      ],
      "metadata": {
        "id": "DQ0iesbk-Fbi"
      }
    },
    {
      "cell_type": "code",
      "source": [
        "# let's compare final Mathematic grades for both classes\n",
        "sns.boxplot(y=\"MG3\", data=sm_inter)\n",
        "plt.show()\n",
        "\n",
        "# Get the Mean, Standard Deviation, Median, and quartiles for math grade\n",
        "print(\"Math Grades:\")\n",
        "print(f\"Math mean:{sm_inter.MG3.mean()}\")\n",
        "print(f\"Math std:{sm_inter.MG3.std()}\")\n",
        "print(f\"Math Medial:{sm_inter.MG3.median()}\")\n",
        "print(f\"Math 1/4 Quartile: {sm_inter.MG3.quantile(q=0.25)}, 3/4 Quartile:{sm_inter.MG3.quantile(q=0.75)} \\n\")"
      ],
      "metadata": {
        "colab": {
          "base_uri": "https://localhost:8080/",
          "height": 518
        },
        "id": "le9kp7FD-Rzx",
        "outputId": "1e4146d3-5486-4761-9e1d-1157a1426141"
      },
      "execution_count": null,
      "outputs": [
        {
          "output_type": "display_data",
          "data": {
            "text/plain": [
              "<Figure size 640x480 with 1 Axes>"
            ],
            "image/png": "[encoded data removed]"
          },
          "metadata": {}
        },
        {
          "output_type": "stream",
          "name": "stdout",
          "text": [
            "Math Grades:\n",
            "Math mean:10.464864864864865\n",
            "Math std:4.608829526277274\n",
            "Math Medial:11.0\n",
            "Math 1/4 Quartile: 8.0, 3/4 Quartile:14.0 \n",
            "\n"
          ]
        }
      ]
    },
    {
      "cell_type": "markdown",
      "source": [
        "Average mean for math is about 10.5, we would want to see a signficant increase from 10.5 for any group here to show that they are effective grade boosters.\n",
        "\n",
        "We will now conduct the same analysis for portuguese"
      ],
      "metadata": {
        "id": "o5h6Jw4Y-_MM"
      }
    },
    {
      "cell_type": "code",
      "source": [
        "# let's compare final Portuguese grades for both classes\n",
        "sns.boxplot(y=\"PG3\", data=sm_inter)\n",
        "plt.show()\n",
        "\n",
        "# Get the Mean, Standard Deviation, Median, and quartiles for Portuguese grade\n",
        "print(\"Port Grades:\")\n",
        "print(f\"Port mean:{sm_inter.PG3.mean()}\")\n",
        "print(f\"Port std:{sm_inter.PG3.std()}\")\n",
        "print(f\"Port Medial:{sm_inter.PG3.median()}\")\n",
        "print(f\"Port 1/4 Quartile: {sm_inter.PG3.quantile(q=0.25)}, 3/4 Quartile:{sm_inter.PG3.quantile(q=0.75)} \\n\")"
      ],
      "metadata": {
        "colab": {
          "base_uri": "https://localhost:8080/",
          "height": 518
        },
        "id": "6SiVfJ4L_KDK",
        "outputId": "804afe72-ad98-46bb-c6fb-2624d9355dab"
      },
      "execution_count": null,
      "outputs": [
        {
          "output_type": "display_data",
          "data": {
            "text/plain": [
              "<Figure size 640x480 with 1 Axes>"
            ],
            "image/png": "[encoded data removed]"
          },
          "metadata": {}
        },
        {
          "output_type": "stream",
          "name": "stdout",
          "text": [
            "Port Grades:\n",
            "Port mean:12.554054054054054\n",
            "Port std:2.943652819404742\n",
            "Port Medial:13.0\n",
            "Port 1/4 Quartile: 11.0, 3/4 Quartile:14.0 \n",
            "\n"
          ]
        }
      ]
    },
    {
      "cell_type": "markdown",
      "source": [
        "Average mean for Protuguese is about 12.5, we would want to see a signficant increase from 12.5 for any group here to show that they are effective grade boosters."
      ],
      "metadata": {
        "id": "RmaGFlYR_eWu"
      }
    },
    {
      "cell_type": "markdown",
      "source": [
        "We should now look first at each different group and see how the average grade looks\n",
        "when we group by having specific form of extra help."
      ],
      "metadata": {
        "id": "GOq2-dDMRK48"
      }
    },
    {
      "cell_type": "code",
      "source": [
        "# let's compare final Mathematic grades for both classes by famsup\n",
        "sns.boxplot(x=\"famsupCat\", y=\"MG3\", hue=\"famsupCat\", data=sm_inter, palette=sns.color_palette(\"Set1\"))\n",
        "plt.show()\n",
        "\n",
        "# Let's see the exact value of various important values like mean are effected\n",
        "# by no help\n",
        "NoFHelp = sm_inter.query(\"famsupCat == 'no'\")\n",
        "# Get the Mean, Standard Deviation, Median, and quartiles for math grade\n",
        "print(\"No Family Help:\")\n",
        "print(f\"Math mean:{NoFHelp.MG3.mean()}\")\n",
        "print(f\"Math std:{NoFHelp.MG3.std()}\")\n",
        "print(f\"Math Medial:{NoFHelp.MG3.median()}\")\n",
        "print(f\"Math 1/4 Quartile: {NoFHelp.MG3.quantile(q=0.25)}, 3/4 Quartile:{NoFHelp.MG3.quantile(q=0.75)} \\n\")\n",
        "\n",
        "# Let's see the exact value of various important values like mean are effected\n",
        "# by help\n",
        "YesFHelp = sm_inter.query(\"famsupCat == 'yes'\")\n",
        "# Get the Mean, Standard Deviation, Median, and quartiles for math grade\n",
        "print(\"Yes Family Help:\")\n",
        "print(f\"Math mean:{YesFHelp.MG3.mean()}\")\n",
        "print(f\"Math std:{YesFHelp.MG3.std()}\")\n",
        "print(f\"Math Medial:{YesFHelp.MG3.median()}\")\n",
        "print(f\"Math 1/4 Quartile: {YesFHelp.MG3.quantile(q=0.25)}, 3/4 Quartile:{YesFHelp.MG3.quantile(q=0.75)}\")"
      ],
      "metadata": {
        "colab": {
          "base_uri": "https://localhost:8080/",
          "height": 681
        },
        "id": "51rw9saYSJ5S",
        "outputId": "faeb3a42-13a8-47b9-c445-030c1d508ad6"
      },
      "execution_count": null,
      "outputs": [
        {
          "output_type": "stream",
          "name": "stderr",
          "text": [
            "<ipython-input-7-9755b0652efb>:2: UserWarning: The palette list has more values (9) than needed (2), which may not be intended.\n",
            "  sns.boxplot(x=\"famsupCat\", y=\"MG3\", hue=\"famsupCat\", data=sm_inter, palette=sns.color_palette(\"Set1\"))\n"
          ]
        },
        {
          "output_type": "display_data",
          "data": {
            "text/plain": [
              "<Figure size 640x480 with 1 Axes>"
            ],
            "image/png": "[encoded data removed]"
          },
          "metadata": {}
        },
        {
          "output_type": "stream",
          "name": "stdout",
          "text": [
            "No Family Help:\n",
            "Math mean:10.762589928057555\n",
            "Math std:4.658765672524433\n",
            "Math Medial:11.0\n",
            "Math 1/4 Quartile: 9.0, 3/4 Quartile:14.0 \n",
            "\n",
            "Yes Family Help:\n",
            "Math mean:10.285714285714286\n",
            "Math std:4.579321602093886\n",
            "Math Medial:11.0\n",
            "Math 1/4 Quartile: 8.0, 3/4 Quartile:14.0\n"
          ]
        }
      ]
    },
    {
      "cell_type": "code",
      "source": [
        "# let's compare Portuguese final grades for both classes by famsup\n",
        "sns.boxplot(x=\"famsupCat\", y=\"PG3\", hue=\"famsupCat\", data=sm_inter, palette=sns.color_palette(\"Set1\"))\n",
        "plt.show()\n",
        "\n",
        "# Let's see the exact value of various important values like mean are effected\n",
        "# by no help\n",
        "# Get the Mean, Standard Deviation, Median, and quartiles for math grade\n",
        "print(\"No Family Help:\")\n",
        "print(f\"Port mean:{NoFHelp.PG3.mean()}\")\n",
        "print(f\"Port std:{NoFHelp.PG3.std()}\")\n",
        "print(f\"Port Medial:{NoFHelp.PG3.median()}\")\n",
        "print(f\"Port 1/4 Quartile: {NoFHelp.PG3.quantile(q=0.25)}, 3/4 Quartile:{NoFHelp.PG3.quantile(q=0.75)} \\n\")\n",
        "\n",
        "# Let's see the exact value of various important values like mean are effected\n",
        "# by help\n",
        "# Get the Mean, Standard Deviation, Median, and quartiles for math grade\n",
        "print(\"Yes Family Help:\")\n",
        "print(f\"Port mean:{YesFHelp.PG3.mean()}\")\n",
        "print(f\"Port std:{YesFHelp.PG3.std()}\")\n",
        "print(f\"Port Medial:{YesFHelp.PG3.median()}\")\n",
        "print(f\"Port 1/4 Quartile: {YesFHelp.PG3.quantile(q=0.25)}, 3/4 Quartile:{YesFHelp.PG3.quantile(q=0.75)}\")"
      ],
      "metadata": {
        "colab": {
          "base_uri": "https://localhost:8080/",
          "height": 681
        },
        "id": "3Y7W6iPzWUw4",
        "outputId": "4c77dd2b-7c0b-4efb-e7ec-845812f7d1bd"
      },
      "execution_count": null,
      "outputs": [
        {
          "output_type": "stream",
          "name": "stderr",
          "text": [
            "<ipython-input-8-bbaa8dbc8350>:2: UserWarning: The palette list has more values (9) than needed (2), which may not be intended.\n",
            "  sns.boxplot(x=\"famsupCat\", y=\"PG3\", hue=\"famsupCat\", data=sm_inter, palette=sns.color_palette(\"Set1\"))\n"
          ]
        },
        {
          "output_type": "display_data",
          "data": {
            "text/plain": [
              "<Figure size 640x480 with 1 Axes>"
            ],
            "image/png": "[encoded data removed]"
          },
          "metadata": {}
        },
        {
          "output_type": "stream",
          "name": "stdout",
          "text": [
            "No Family Help:\n",
            "Port mean:12.194244604316546\n",
            "Port std:3.3640850293449343\n",
            "Port Medial:12.0\n",
            "Port 1/4 Quartile: 10.0, 3/4 Quartile:14.0 \n",
            "\n",
            "Yes Family Help:\n",
            "Port mean:12.770562770562771\n",
            "Port std:2.643153441761355\n",
            "Port Medial:13.0\n",
            "Port 1/4 Quartile: 11.0, 3/4 Quartile:15.0\n"
          ]
        }
      ]
    },
    {
      "cell_type": "markdown",
      "source": [
        "Family help actually lowered the average math grade by a small amount, but also increased the average portuguese grade by a small amount, family help doesn't seem to make a difference. Not getting help from family also seemed to reduce the standard deviation greatly."
      ],
      "metadata": {
        "id": "VFLKWBi9az7j"
      }
    },
    {
      "cell_type": "code",
      "source": [
        "# let's compare final Mathematic grades for both classes by schoolsup\n",
        "sns.boxplot(x=\"schoolsupCat\", y=\"MG3\", hue=\"schoolsupCat\", data=sm_inter, palette=sns.color_palette(\"Set1\"))\n",
        "plt.show()\n",
        "\n",
        "# Let's see the exact value of various important values like mean are effected\n",
        "# by no school help\n",
        "NoSHelp = sm_inter.query(\"schoolsupCat == 'no'\")\n",
        "# Get the Mean, Standard Deviation, Median, and quartiles for math grade\n",
        "print(\"No School Help:\")\n",
        "print(f\"Math mean:{NoSHelp.MG3.mean()}\")\n",
        "print(f\"Math std:{NoSHelp.MG3.std()}\")\n",
        "print(f\"Math Medial:{NoSHelp.MG3.median()}\")\n",
        "print(f\"Math 1/4 Quartile: {NoSHelp.MG3.quantile(q=0.25)}, 3/4 Quartile:{NoSHelp.MG3.quantile(q=0.75)} \\n\")\n",
        "\n",
        "# Let's see the exact value of various important values like mean are effected\n",
        "# by help\n",
        "YesSHelp = sm_inter.query(\"schoolsupCat == 'yes'\")\n",
        "# Get the Mean, Standard Deviation, Median, and quartiles for math grade\n",
        "print(\"Yes School Help:\")\n",
        "print(f\"Math mean:{YesSHelp.MG3.mean()}\")\n",
        "print(f\"Math std:{YesSHelp.MG3.std()}\")\n",
        "print(f\"Math Medial:{YesSHelp.MG3.median()}\")\n",
        "print(f\"Math 1/4 Quartile: {YesSHelp.MG3.quantile(q=0.25)}, 3/4 Quartile:{YesSHelp.MG3.quantile(q=0.75)}\")"
      ],
      "metadata": {
        "colab": {
          "base_uri": "https://localhost:8080/",
          "height": 681
        },
        "id": "DeyyuTIFb8YU",
        "outputId": "47f5b7b6-0bc4-4704-810a-4cba88803e6a"
      },
      "execution_count": null,
      "outputs": [
        {
          "output_type": "stream",
          "name": "stderr",
          "text": [
            "<ipython-input-9-d63b45b493fc>:2: UserWarning: The palette list has more values (9) than needed (2), which may not be intended.\n",
            "  sns.boxplot(x=\"schoolsupCat\", y=\"MG3\", hue=\"schoolsupCat\", data=sm_inter, palette=sns.color_palette(\"Set1\"))\n"
          ]
        },
        {
          "output_type": "display_data",
          "data": {
            "text/plain": [
              "<Figure size 640x480 with 1 Axes>"
            ],
            "image/png": "[encoded data removed]"
          },
          "metadata": {}
        },
        {
          "output_type": "stream",
          "name": "stdout",
          "text": [
            "No School Help:\n",
            "Math mean:10.616822429906541\n",
            "Math std:4.8016498332859845\n",
            "Math Medial:11.0\n",
            "Math 1/4 Quartile: 9.0, 3/4 Quartile:14.0 \n",
            "\n",
            "Yes School Help:\n",
            "Math mean:9.46938775510204\n",
            "Math std:2.9018818665388393\n",
            "Math Medial:10.0\n",
            "Math 1/4 Quartile: 8.0, 3/4 Quartile:11.0\n"
          ]
        }
      ]
    },
    {
      "cell_type": "code",
      "source": [
        "# let's compare Portuguese final grades for both classes by Schoolsup\n",
        "sns.boxplot(x=\"schoolsupCat\", y=\"PG3\", hue=\"schoolsupCat\", data=sm_inter, palette=sns.color_palette(\"Set1\"))\n",
        "plt.show()\n",
        "\n",
        "# Let's see the exact value of various important values like mean are effected\n",
        "# by no help\n",
        "# Get the Mean, Standard Deviation, Median, and quartiles for math grade\n",
        "print(\"No School Help:\")\n",
        "print(f\"Port mean:{NoSHelp.PG3.mean()}\")\n",
        "print(f\"Port std:{NoSHelp.PG3.std()}\")\n",
        "print(f\"Port Medial:{NoSHelp.PG3.median()}\")\n",
        "print(f\"Port 1/4 Quartile: {NoSHelp.PG3.quantile(q=0.25)}, 3/4 Quartile:{NoSHelp.PG3.quantile(q=0.75)} \\n\")\n",
        "\n",
        "# Let's see the exact value of various important values like mean are effected\n",
        "# by help\n",
        "# Get the Mean, Standard Deviation, Median, and quartiles for math grade\n",
        "print(\"Yes School Help:\")\n",
        "print(f\"Port mean:{YesSHelp.PG3.mean()}\")\n",
        "print(f\"Port std:{YesSHelp.PG3.std()}\")\n",
        "print(f\"Port Medial:{YesSHelp.PG3.median()}\")\n",
        "print(f\"Port 1/4 Quartile: {YesSHelp.PG3.quantile(q=0.25)}, 3/4 Quartile:{YesSHelp.PG3.quantile(q=0.75)}\")"
      ],
      "metadata": {
        "colab": {
          "base_uri": "https://localhost:8080/",
          "height": 681
        },
        "id": "NeJkdLikcqTN",
        "outputId": "d6e16399-8746-48c4-a014-a88a454a74e6"
      },
      "execution_count": null,
      "outputs": [
        {
          "output_type": "stream",
          "name": "stderr",
          "text": [
            "<ipython-input-10-c5008eed5d01>:2: UserWarning: The palette list has more values (9) than needed (2), which may not be intended.\n",
            "  sns.boxplot(x=\"schoolsupCat\", y=\"PG3\", hue=\"schoolsupCat\", data=sm_inter, palette=sns.color_palette(\"Set1\"))\n"
          ]
        },
        {
          "output_type": "display_data",
          "data": {
            "text/plain": [
              "<Figure size 640x480 with 1 Axes>"
            ],
            "image/png": "[encoded data removed]"
          },
          "metadata": {}
        },
        {
          "output_type": "stream",
          "name": "stdout",
          "text": [
            "No School Help:\n",
            "Port mean:12.71651090342679\n",
            "Port std:3.0655354814717115\n",
            "Port Medial:13.0\n",
            "Port 1/4 Quartile: 11.0, 3/4 Quartile:15.0 \n",
            "\n",
            "Yes School Help:\n",
            "Port mean:11.489795918367347\n",
            "Port std:1.621758934248961\n",
            "Port Medial:11.0\n",
            "Port 1/4 Quartile: 10.0, 3/4 Quartile:13.0\n"
          ]
        }
      ]
    },
    {
      "cell_type": "markdown",
      "source": [
        "Surprisingly getting help from school directly doesn't seem to improve the average grade at all, in fact it lowered the average grade for both grades by a whole point implying that needing help from the school meant a student was expected to do worse on average. Getting help also greatly reduced the standard deviation implying the range of grades you could expect from a student getting help was much smaller."
      ],
      "metadata": {
        "id": "SN_mPMhUdV4l"
      }
    },
    {
      "cell_type": "code",
      "source": [
        "# let's compare final Mathematic grades for both classes by PaidM\n",
        "# We won't apply PaidM to their portuguese grade since math tutoring doesn't\n",
        "# apply to portuguese\n",
        "sns.boxplot(x=\"paidMCat\", y=\"MG3\", hue=\"paidMCat\", data=sm_inter, palette=sns.color_palette(\"Set1\"))\n",
        "plt.show()\n",
        "\n",
        "# Let's see the exact value of various important values like mean are effected\n",
        "# by no paid math tutoring\n",
        "NoPaidM = sm_inter.query(\"paidMCat == 'no'\")\n",
        "# Get the Mean, Standard Deviation, Median, and quartiles for math grade\n",
        "print(\"No Paid Math Tutoring:\")\n",
        "print(f\"Math mean:{NoPaidM.MG3.mean()}\")\n",
        "print(f\"Math std:{NoPaidM.MG3.std()}\")\n",
        "print(f\"Math Medial:{NoPaidM.MG3.median()}\")\n",
        "print(f\"Math 1/4 Quartile: {NoPaidM.MG3.quantile(q=0.25)}, 3/4 Quartile:{NoPaidM.MG3.quantile(q=0.75)} \\n\")\n",
        "\n",
        "# Let's see the exact value of various important values like mean are effected\n",
        "# by Math Tutoring\n",
        "YesPaidM = sm_inter.query(\"paidMCat == 'yes'\")\n",
        "# Get the Mean, Standard Deviation, Median, and quartiles for math grade\n",
        "print(\"Yes Paid Math Tutoring:\")\n",
        "print(f\"Math mean:{YesPaidM.MG3.mean()}\")\n",
        "print(f\"Math std:{YesPaidM.MG3.std()}\")\n",
        "print(f\"Math Medial:{YesPaidM.MG3.median()}\")\n",
        "print(f\"Math 1/4 Quartile: {YesPaidM.MG3.quantile(q=0.25)}, 3/4 Quartile:{YesPaidM.MG3.quantile(q=0.75)}\")"
      ],
      "metadata": {
        "colab": {
          "base_uri": "https://localhost:8080/",
          "height": 681
        },
        "id": "vZbxE3_ueV8g",
        "outputId": "23ae98cc-39c5-4d23-c5bf-86e3142cba8c"
      },
      "execution_count": null,
      "outputs": [
        {
          "output_type": "stream",
          "name": "stderr",
          "text": [
            "<ipython-input-11-921c136dccb2>:4: UserWarning: The palette list has more values (9) than needed (2), which may not be intended.\n",
            "  sns.boxplot(x=\"paidMCat\", y=\"MG3\", hue=\"paidMCat\", data=sm_inter, palette=sns.color_palette(\"Set1\"))\n"
          ]
        },
        {
          "output_type": "display_data",
          "data": {
            "text/plain": [
              "<Figure size 640x480 with 1 Axes>"
            ],
            "image/png": "[encoded data removed]"
          },
          "metadata": {}
        },
        {
          "output_type": "stream",
          "name": "stdout",
          "text": [
            "No Paid Math Tutoring:\n",
            "Math mean:10.071428571428571\n",
            "Math std:5.174394551477399\n",
            "Math Medial:11.0\n",
            "Math 1/4 Quartile: 8.0, 3/4 Quartile:14.0 \n",
            "\n",
            "Yes Paid Math Tutoring:\n",
            "Math mean:10.908045977011493\n",
            "Math std:3.841158856651955\n",
            "Math Medial:11.0\n",
            "Math 1/4 Quartile: 9.0, 3/4 Quartile:13.75\n"
          ]
        }
      ]
    },
    {
      "cell_type": "markdown",
      "source": [
        "Tutoring for a Math Class has surprisingly little effect as it only raised the average grade by less than half a point. furthermore it brought the standard deviation down meaning that students ended up producing more consistent results when tutored."
      ],
      "metadata": {
        "id": "56r39_ngfl5a"
      }
    },
    {
      "cell_type": "code",
      "source": [
        "# let's compare final Portuguese grades for both classes by PaidP\n",
        "# We won't apply PaidP to their math grade since Portuguese tutoring doesn't\n",
        "# apply to math\n",
        "sns.boxplot(x=\"paidPCat\", y=\"PG3\", hue=\"paidPCat\", data=sm_inter, palette=sns.color_palette(\"Set1\"))\n",
        "plt.show()\n",
        "\n",
        "# Let's see the exact value of various important values like mean are effected\n",
        "# by no paid Port tutoring\n",
        "NoPaidP = sm_inter.query(\"paidPCat == 'no'\")\n",
        "# Get the Mean, Standard Deviation, Median, and quartiles for math grade\n",
        "print(\"No Paid Port Tutoring:\")\n",
        "print(f\"Port mean:{NoPaidP.PG3.mean()}\")\n",
        "print(f\"Port std:{NoPaidP.PG3.std()}\")\n",
        "print(f\"Port Medial:{NoPaidP.PG3.median()}\")\n",
        "print(f\"Port 1/4 Quartile: {NoPaidP.PG3.quantile(q=0.25)}, 3/4 Quartile:{NoPaidP.PG3.quantile(q=0.75)} \\n\")\n",
        "\n",
        "# Let's see the exact value of various important values like mean are effected\n",
        "# by Port Tutoring\n",
        "YesPaidP = sm_inter.query(\"paidPCat == 'yes'\")\n",
        "# Get the Mean, Standard Deviation, Median, and quartiles for math grade\n",
        "print(\"Yes Paid Port Tutoring:\")\n",
        "print(f\"Port mean:{YesPaidP.PG3.mean()}\")\n",
        "print(f\"Port std:{YesPaidP.PG3.std()}\")\n",
        "print(f\"Port Medial:{YesPaidP.PG3.median()}\")\n",
        "print(f\"Port 1/4 Quartile: {YesPaidP.PG3.quantile(q=0.25)}, 3/4 Quartile:{YesPaidP.PG3.quantile(q=0.75)}\")"
      ],
      "metadata": {
        "colab": {
          "base_uri": "https://localhost:8080/",
          "height": 681
        },
        "id": "bNarcuhNgpj1",
        "outputId": "1dd95090-29b6-4dd7-c285-c04e572a0c79"
      },
      "execution_count": null,
      "outputs": [
        {
          "output_type": "stream",
          "name": "stderr",
          "text": [
            "<ipython-input-12-9fc3dbb49b2b>:4: UserWarning: The palette list has more values (9) than needed (2), which may not be intended.\n",
            "  sns.boxplot(x=\"paidPCat\", y=\"PG3\", hue=\"paidPCat\", data=sm_inter, palette=sns.color_palette(\"Set1\"))\n"
          ]
        },
        {
          "output_type": "display_data",
          "data": {
            "text/plain": [
              "<Figure size 640x480 with 1 Axes>"
            ],
            "image/png": "[encoded data removed]"
          },
          "metadata": {}
        },
        {
          "output_type": "stream",
          "name": "stdout",
          "text": [
            "No Paid Port Tutoring:\n",
            "Port mean:12.660869565217391\n",
            "Port std:2.900141205027801\n",
            "Port Medial:13.0\n",
            "Port 1/4 Quartile: 11.0, 3/4 Quartile:15.0 \n",
            "\n",
            "Yes Paid Port Tutoring:\n",
            "Port mean:11.08\n",
            "Port std:3.2005207909547058\n",
            "Port Medial:12.0\n",
            "Port 1/4 Quartile: 10.0, 3/4 Quartile:13.0\n"
          ]
        }
      ]
    },
    {
      "cell_type": "markdown",
      "source": [
        "Tutoring for a Portuguese Class also has a surprisingly negative effect, it brought the mean by down 1.5 points from the expected average implying that a student getting paid tutoring could on average be expected to do worse than a student not receiving tutoring. However it did also reduce the standard deviation making their final grade more predictable.\n",
        "\n",
        "It is surprising that tutoring indicates a lower grade overall than no tutoring. Perhaps it only really helps students who are failing but does not help students excel if they are already doing fine thus bringing a low grade to a better but still not fantastic grade."
      ],
      "metadata": {
        "id": "Q8RRfVHIhTjH"
      }
    },
    {
      "cell_type": "markdown",
      "source": [
        "The conclusion seems to be that these methods of extra help don't help a student excel in class, and are not generally strong predictors of final grade on their own unlike what one may expect on the outset."
      ],
      "metadata": {
        "id": "8welHT-9ByPH"
      }
    },
    {
      "cell_type": "markdown",
      "source": [
        "An example query with response rows"
      ],
      "metadata": {
        "id": "o4kQ9qP7EqCi"
      }
    },
    {
      "cell_type": "code",
      "source": [
        "# Let's see the exact value of various important values like mean are effected\n",
        "# by yes school help\n",
        "YesSHelpB = sm_inter.query(\"schoolsupCat == 'yes'\")\n",
        "print(YesSHelpB.head())\n",
        "print(YesSHelpB.shape)\n",
        "print(sm_inter.shape)\n",
        "YesSHelpB.to_csv('schoolout.csv')"
      ],
      "metadata": {
        "colab": {
          "base_uri": "https://localhost:8080/"
        },
        "id": "-6U7iZcaEpr-",
        "outputId": "85f2ce0e-3e80-4633-dc52-cd21d1416306"
      },
      "execution_count": null,
      "outputs": [
        {
          "output_type": "stream",
          "name": "stdout",
          "text": [
            "   school sex  age address famsize Pstatus  Medu  Fedu      Mjob     Fjob  \\\n",
            "0      GP   F   18       U     GT3       A     4     4   at_home  teacher   \n",
            "2      GP   F   15       U     LE3       T     1     1   at_home    other   \n",
            "7      GP   F   17       U     GT3       A     4     4     other  teacher   \n",
            "17     GP   F   16       U     GT3       T     3     3     other    other   \n",
            "24     GP   F   15       R     GT3       T     2     4  services   health   \n",
            "\n",
            "    ... absencesM MG3  failuresP  paidP  absencesP PG3 paidMCat paidPCat  \\\n",
            "0   ...         6   6          0     no          4  11       no       no   \n",
            "2   ...        10  10          0     no          6  12      yes       no   \n",
            "7   ...         6   6          0     no          2  13       no       no   \n",
            "17  ...         4  10          0     no          2  14       no       no   \n",
            "24  ...         2   8          0     no          2  10      yes       no   \n",
            "\n",
            "   famsupCat schoolsupCat  \n",
            "0         no          yes  \n",
            "2         no          yes  \n",
            "7        yes          yes  \n",
            "17       yes          yes  \n",
            "24       yes          yes  \n",
            "\n",
            "[5 rows x 39 columns]\n",
            "(49, 39)\n",
            "(370, 39)\n"
          ]
        }
      ]
    }
  ]
}